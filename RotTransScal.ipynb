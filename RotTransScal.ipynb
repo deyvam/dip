{
 "cells": [
  {
   "cell_type": "code",
   "execution_count": 1,
   "metadata": {},
   "outputs": [],
   "source": [
    "import cv2\n",
    "import numpy as np\n"
   ]
  },
  {
   "cell_type": "code",
   "execution_count": 5,
   "metadata": {},
   "outputs": [
    {
     "ename": "AttributeError",
     "evalue": "'NoneType' object has no attribute 'shape'",
     "output_type": "error",
     "traceback": [
      "\u001b[1;31m---------------------------------------------------------------------------\u001b[0m",
      "\u001b[1;31mAttributeError\u001b[0m                            Traceback (most recent call last)",
      "Cell \u001b[1;32mIn[5], line 2\u001b[0m\n\u001b[0;32m      1\u001b[0m image \u001b[39m=\u001b[39m cv2\u001b[39m.\u001b[39mimread(\u001b[39m\"\u001b[39m\u001b[39mss.28.jpeg\u001b[39m\u001b[39m\"\u001b[39m)\n\u001b[1;32m----> 2\u001b[0m height,width\u001b[39m=\u001b[39mimage\u001b[39m.\u001b[39;49mshape[:\u001b[39m2\u001b[39m]\n\u001b[0;32m      3\u001b[0m \u001b[39mprint\u001b[39m(height,width)\n",
      "\u001b[1;31mAttributeError\u001b[0m: 'NoneType' object has no attribute 'shape'"
     ]
    }
   ],
   "source": [
    "image = cv2.imread(\"ss.28.jpeg\")\n",
    "height,width=image.shape[:2]\n",
    "print(height,width)"
   ]
  },
  {
   "cell_type": "code",
   "execution_count": 11,
   "metadata": {},
   "outputs": [
    {
     "ename": "AttributeError",
     "evalue": "'NoneType' object has no attribute 'shape'",
     "output_type": "error",
     "traceback": [
      "\u001b[1;31m---------------------------------------------------------------------------\u001b[0m",
      "\u001b[1;31mAttributeError\u001b[0m                            Traceback (most recent call last)",
      "Cell \u001b[1;32mIn[11], line 1\u001b[0m\n\u001b[1;32m----> 1\u001b[0m rows,cols\u001b[39m=\u001b[39mimage\u001b[39m.\u001b[39;49mshape[:\u001b[39m2\u001b[39m]\n\u001b[0;32m      2\u001b[0m M\u001b[39m=\u001b[39m cv2\u001b[39m.\u001b[39mgetRotationMatrix2D((cols\u001b[39m/\u001b[39m\u001b[39m2\u001b[39m, rows\u001b[39m/\u001b[39m\u001b[39m2\u001b[39m), \u001b[39m45\u001b[39m,\u001b[39m1\u001b[39m)\n\u001b[0;32m      3\u001b[0m rotated_image \u001b[39m=\u001b[39m cv2\u001b[39m.\u001b[39mwarpAffine(image, M, (cols, rows))\n",
      "\u001b[1;31mAttributeError\u001b[0m: 'NoneType' object has no attribute 'shape'"
     ]
    }
   ],
   "source": [
    "rows,cols=image.shape[:2]\n",
    "M= cv2.getRotationMatrix2D((cols/2, rows/2), 45,1)\n",
    "rotated_image = cv2.warpAffine(image, M, (cols, rows))\n",
    "scaled_img=cv2.resize(image,None,fx=0.5,fy=0.5,interpolation=cv2.INTER_LINEAR)\n",
    "M = np.float32([[1, 0, 100], [0, 1, 50]])\n",
    "translated_image = cv2.warpAffine(image,M, (cols, rows))"
   ]
  },
  {
   "cell_type": "code",
   "execution_count": 10,
   "metadata": {},
   "outputs": [
    {
     "ename": "error",
     "evalue": "OpenCV(4.6.0) D:\\a\\opencv-python\\opencv-python\\opencv\\modules\\highgui\\src\\window.cpp:967: error: (-215:Assertion failed) size.width>0 && size.height>0 in function 'cv::imshow'\n",
     "output_type": "error",
     "traceback": [
      "\u001b[1;31m---------------------------------------------------------------------------\u001b[0m",
      "\u001b[1;31merror\u001b[0m                                     Traceback (most recent call last)",
      "Cell \u001b[1;32mIn[10], line 1\u001b[0m\n\u001b[1;32m----> 1\u001b[0m cv2\u001b[39m.\u001b[39;49mimshow(\u001b[39m\"\u001b[39;49m\u001b[39mOriginal Image\u001b[39;49m\u001b[39m\"\u001b[39;49m, image)\n\u001b[0;32m      2\u001b[0m cv2\u001b[39m.\u001b[39mimshow(\u001b[39m\"\u001b[39m\u001b[39mRotated Image\u001b[39m\u001b[39m\"\u001b[39m, rotated_image)\n\u001b[0;32m      3\u001b[0m cv2\u001b[39m.\u001b[39mimshow(\u001b[39m\"\u001b[39m\u001b[39mScaled Image\u001b[39m\u001b[39m\"\u001b[39m, scaled_img)\n",
      "\u001b[1;31merror\u001b[0m: OpenCV(4.6.0) D:\\a\\opencv-python\\opencv-python\\opencv\\modules\\highgui\\src\\window.cpp:967: error: (-215:Assertion failed) size.width>0 && size.height>0 in function 'cv::imshow'\n"
     ]
    }
   ],
   "source": [
    "cv2.imshow(\"Original Image\", image)\n",
    "cv2.imshow(\"Rotated Image\", rotated_image)\n",
    "cv2.imshow(\"Scaled Image\", scaled_img)\n",
    "cv2.imshow(\"Translated Image\", translated_image)\n",
    "# Wait for a key press and then close the windows\n",
    "cv2.waitKey(0)\n",
    "cv2.destroyAllWindows()"
   ]
  }
 ],
 "metadata": {
  "kernelspec": {
   "display_name": "Python 3",
   "language": "python",
   "name": "python3"
  },
  "language_info": {
   "codemirror_mode": {
    "name": "ipython",
    "version": 3
   },
   "file_extension": ".py",
   "mimetype": "text/x-python",
   "name": "python",
   "nbconvert_exporter": "python",
   "pygments_lexer": "ipython3",
   "version": "3.11.0"
  },
  "orig_nbformat": 4
 },
 "nbformat": 4,
 "nbformat_minor": 2
}
