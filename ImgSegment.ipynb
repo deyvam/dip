{
 "cells": [
  {
   "cell_type": "code",
   "execution_count": 1,
   "metadata": {},
   "outputs": [],
   "source": [
    "import cv2\n",
    "import pandas as pd"
   ]
  },
  {
   "cell_type": "code",
   "execution_count": 4,
   "metadata": {},
   "outputs": [],
   "source": [
    "\n",
    "# Load the image\n",
    "img = cv2.imread('low_contrast.jpg', 0)\n",
    "\n",
    "# Perform histogram equalization\n",
    "eq_img = cv2.equalizeHist(img)\n",
    "\n",
    "# Apply adaptive thresholding\n",
    "thresh = cv2.adaptiveThreshold(eq_img, 255, cv2.ADAPTIVE_THRESH_MEAN_C, cv2.THRESH_BINARY, 11, 2)\n",
    "\n",
    "# Define a kernel for morphological operations\n",
    "kernel = np.ones((3, 3), np.uint8)\n",
    "\n",
    "# Apply morphological opening\n",
    "opening = cv2.morphologyEx(thresh, cv2.MORPH_OPEN, kernel)\n",
    "\n",
    "# Show the original, equalized, and segmented images\n",
    "cv2.imshow('Original image', img)\n",
    "cv2.imshow('Equalized image', eq_img)\n",
    "cv2.imshow('Segmented image', opening)\n",
    "\n",
    "# Wait for a key press and then close the windows\n",
    "cv2.waitKey(0)\n",
    "cv2.destroyAllWindows()\n"
   ]
  }
 ],
 "metadata": {
  "kernelspec": {
   "display_name": "Python 3",
   "language": "python",
   "name": "python3"
  },
  "language_info": {
   "codemirror_mode": {
    "name": "ipython",
    "version": 3
   },
   "file_extension": ".py",
   "mimetype": "text/x-python",
   "name": "python",
   "nbconvert_exporter": "python",
   "pygments_lexer": "ipython3",
   "version": "3.11.0"
  },
  "orig_nbformat": 4
 },
 "nbformat": 4,
 "nbformat_minor": 2
}
