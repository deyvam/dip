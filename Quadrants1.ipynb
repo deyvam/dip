{
 "cells": [
  {
   "cell_type": "code",
   "execution_count": 1,
   "metadata": {},
   "outputs": [],
   "source": [
    "import cv2\n",
    "import numpy as np\n",
    "path=r'C:\\Users\\91789\\OneDrive\\Desktop\\DIP_Lab\\ss28.jpeg'\n",
    "# Read the image\n",
    "img = cv2.imread(path)\n",
    "height,width=img.shape[:2]\n",
    "centre_x,centre_y=int(width/2),int(height/2)\n",
    "lu_img=img[0:centre_y,0:centre_x]\n",
    "ru_img=img[0:centre_y,centre_x:width]\n",
    "ll_img=img[centre_y:height,0:centre_x]\n",
    "rl_img=img[centre_y:height,centre_x:width]\n",
    "# Display the four quadrants\n",
    "cv2.imshow('Left Upper', lu_img)\n",
    "cv2.imshow('Right Upper', ru_img)\n",
    "cv2.imshow('Left Lower', ll_img)\n",
    "cv2.imshow('Right Lower', rl_img)\n",
    "cv2.waitKey(0)\n",
    "cv2.destroyAllWindows()"
   ]
  }
 ],
 "metadata": {
  "kernelspec": {
   "display_name": "Python 3",
   "language": "python",
   "name": "python3"
  },
  "language_info": {
   "codemirror_mode": {
    "name": "ipython",
    "version": 3
   },
   "file_extension": ".py",
   "mimetype": "text/x-python",
   "name": "python",
   "nbconvert_exporter": "python",
   "pygments_lexer": "ipython3",
   "version": "3.11.0"
  },
  "orig_nbformat": 4
 },
 "nbformat": 4,
 "nbformat_minor": 2
}
