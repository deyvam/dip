{
 "cells": [
  {
   "cell_type": "code",
   "execution_count": 2,
   "metadata": {},
   "outputs": [],
   "source": [
    "import numpy as np\n",
    "import cv2"
   ]
  },
  {
   "cell_type": "code",
   "execution_count": 3,
   "metadata": {},
   "outputs": [],
   "source": [
    "image = cv2.imread(\"images.jpg\")\n",
    "gray=cv2.cvtColor(image,cv2.COLOR_BGR2GRAY)"
   ]
  },
  {
   "cell_type": "code",
   "execution_count": 4,
   "metadata": {},
   "outputs": [],
   "source": [
    "blur=cv2.GaussianBlur(gray,(3,3),0)\n",
    "edges=cv2.Canny(blur,50,150)\n",
    "sobelx=cv2.Sobel(blur, cv2.CV_64F,1,0,ksize=3)\n",
    "sobely=cv2.Sobel(blur, cv2.CV_64F,0,1,ksize=3)\n",
    "mag=np.sqrt(sobelx**2+sobely**2)\n",
    "mag=np.uint8(mag)\n",
    "cv2.namedWindow('Original image',cv2.WINDOW_NORMAL)\n",
    "cv2.resizeWindow('Original image',300,300)\n",
    "cv2.namedWindow('Edges',cv2.WINDOW_NORMAL)\n",
    "cv2.resizeWindow('Edges',300,300)\n",
    "cv2.namedWindow('Texture',cv2.WINDOW_NORMAL)\n",
    "cv2.resizeWindow('Texture',300,300)\n",
    "\n",
    "cv2.imshow('Original image',image)\n",
    "cv2.imshow('Edges',edges)\n",
    "cv2.imshow('Textures',mag)\n",
    "cv2.waitKey(0)\n",
    "cv2.destroyAllWindows()"
   ]
  }
 ],
 "metadata": {
  "kernelspec": {
   "display_name": "Python 3",
   "language": "python",
   "name": "python3"
  },
  "language_info": {
   "codemirror_mode": {
    "name": "ipython",
    "version": 3
   },
   "file_extension": ".py",
   "mimetype": "text/x-python",
   "name": "python",
   "nbconvert_exporter": "python",
   "pygments_lexer": "ipython3",
   "version": "3.11.0"
  },
  "orig_nbformat": 4
 },
 "nbformat": 4,
 "nbformat_minor": 2
}
